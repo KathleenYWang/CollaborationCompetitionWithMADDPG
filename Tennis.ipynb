{
 "cells": [
  {
   "cell_type": "markdown",
   "metadata": {},
   "source": [
    "# Collaboration and Competition\n",
    "\n",
    "---\n",
    "\n",
    "In this notebook, you will learn how to use the Unity ML-Agents environment for the third project of the [Deep Reinforcement Learning Nanodegree](https://www.udacity.com/course/deep-reinforcement-learning-nanodegree--nd893) program.\n",
    "\n",
    "### 1. Start the Environment\n",
    "\n",
    "We begin by importing the necessary packages.  If the code cell below returns an error, please revisit the project instructions to double-check that you have installed [Unity ML-Agents](https://github.com/Unity-Technologies/ml-agents/blob/master/docs/Installation.md) and [NumPy](http://www.numpy.org/)."
   ]
  },
  {
   "cell_type": "code",
   "execution_count": 1,
   "metadata": {
    "collapsed": false
   },
   "outputs": [],
   "source": [
    "from unityagents import UnityEnvironment\n",
    "import numpy as np\n",
    "\n",
    "import random\n",
    "import torch\n",
    "\n",
    "from collections import deque\n",
    "import matplotlib.pyplot as plt\n",
    "%matplotlib inline\n",
    "\n",
    "from maddpg import MADDPG, ReplayBuffer\n",
    "\n",
    "import os\n",
    "from utilities import transpose_list, transpose_to_tensor\n"
   ]
  },
  {
   "cell_type": "markdown",
   "metadata": {},
   "source": [
    "Next, we will start the environment!  **_Before running the code cell below_**, change the `file_name` parameter to match the location of the Unity environment that you downloaded.\n",
    "\n",
    "- **Mac**: `\"path/to/Tennis.app\"`\n",
    "- **Windows** (x86): `\"path/to/Tennis_Windows_x86/Tennis.exe\"`\n",
    "- **Windows** (x86_64): `\"path/to/Tennis_Windows_x86_64/Tennis.exe\"`\n",
    "- **Linux** (x86): `\"path/to/Tennis_Linux/Tennis.x86\"`\n",
    "- **Linux** (x86_64): `\"path/to/Tennis_Linux/Tennis.x86_64\"`\n",
    "- **Linux** (x86, headless): `\"path/to/Tennis_Linux_NoVis/Tennis.x86\"`\n",
    "- **Linux** (x86_64, headless): `\"path/to/Tennis_Linux_NoVis/Tennis.x86_64\"`\n",
    "\n",
    "For instance, if you are using a Mac, then you downloaded `Tennis.app`.  If this file is in the same folder as the notebook, then the line below should appear as follows:\n",
    "```\n",
    "env = UnityEnvironment(file_name=\"Tennis.app\")\n",
    "```"
   ]
  },
  {
   "cell_type": "code",
   "execution_count": 2,
   "metadata": {
    "collapsed": false
   },
   "outputs": [
    {
     "name": "stderr",
     "output_type": "stream",
     "text": [
      "INFO:unityagents:\n",
      "'Academy' started successfully!\n",
      "Unity Academy name: Academy\n",
      "        Number of Brains: 1\n",
      "        Number of External Brains : 1\n",
      "        Lesson number : 0\n",
      "        Reset Parameters :\n",
      "\t\t\n",
      "Unity brain name: TennisBrain\n",
      "        Number of Visual Observations (per agent): 0\n",
      "        Vector Observation space type: continuous\n",
      "        Vector Observation space size (per agent): 8\n",
      "        Number of stacked Vector Observation: 3\n",
      "        Vector Action space type: continuous\n",
      "        Vector Action space size (per agent): 2\n",
      "        Vector Action descriptions: , \n"
     ]
    }
   ],
   "source": [
    "env = UnityEnvironment(file_name='env\\Tennis.app')"
   ]
  },
  {
   "cell_type": "markdown",
   "metadata": {},
   "source": [
    "Environments contain **_brains_** which are responsible for deciding the actions of their associated agents. Here we check for the first brain available, and set it as the default brain we will be controlling from Python."
   ]
  },
  {
   "cell_type": "code",
   "execution_count": 3,
   "metadata": {
    "collapsed": true
   },
   "outputs": [],
   "source": [
    "# get the default brain\n",
    "brain_name = env.brain_names[0]\n",
    "brain = env.brains[brain_name]"
   ]
  },
  {
   "cell_type": "markdown",
   "metadata": {},
   "source": [
    "### 2. Examine the State and Action Spaces\n",
    "\n",
    "In this environment, two agents control rackets to bounce a ball over a net. If an agent hits the ball over the net, it receives a reward of +0.1.  If an agent lets a ball hit the ground or hits the ball out of bounds, it receives a reward of -0.01.  Thus, the goal of each agent is to keep the ball in play.\n",
    "\n",
    "The observation space consists of 8 variables corresponding to the position and velocity of the ball and racket. Two continuous actions are available, corresponding to movement toward (or away from) the net, and jumping. \n",
    "\n",
    "Run the code cell below to print some information about the environment."
   ]
  },
  {
   "cell_type": "code",
   "execution_count": 4,
   "metadata": {
    "collapsed": false
   },
   "outputs": [
    {
     "name": "stdout",
     "output_type": "stream",
     "text": [
      "Number of agents: 2\n",
      "Size of each action: 2\n",
      "There are 2 agents. Each observes a state with length: 24\n",
      "The state for the first agent looks like: [ 0.          0.          0.          0.          0.          0.\n",
      "  0.          0.          0.          0.          0.          0.\n",
      "  0.          0.          0.          0.         -6.65278625 -1.5\n",
      " -0.          0.          6.83172083  6.         -0.          0.        ]\n"
     ]
    }
   ],
   "source": [
    "# reset the environment\n",
    "env_info = env.reset(train_mode=True)[brain_name]\n",
    "\n",
    "# number of agents \n",
    "num_agents = len(env_info.agents)\n",
    "print('Number of agents:', num_agents)\n",
    "\n",
    "# size of each action\n",
    "action_size = brain.vector_action_space_size\n",
    "print('Size of each action:', action_size)\n",
    "\n",
    "# examine the state space \n",
    "states = env_info.vector_observations\n",
    "state_size = states.shape[1]\n",
    "print('There are {} agents. Each observes a state with length: {}'.format(states.shape[0], state_size))\n",
    "print('The state for the first agent looks like:', states[0])"
   ]
  },
  {
   "cell_type": "code",
   "execution_count": 11,
   "metadata": {
    "collapsed": false
   },
   "outputs": [
    {
     "data": {
      "text/plain": [
       "array([[ 0.        ,  0.        ,  0.        ,  0.        ,  0.        ,\n",
       "         0.        ,  0.        ,  0.        ,  0.        ,  0.        ,\n",
       "         0.        ,  0.        ,  0.        ,  0.        ,  0.        ,\n",
       "         0.        , -6.65278625, -1.5       , -0.        ,  0.        ,\n",
       "         6.83172083,  6.        , -0.        ,  0.        ],\n",
       "       [ 0.        ,  0.        ,  0.        ,  0.        ,  0.        ,\n",
       "         0.        ,  0.        ,  0.        ,  0.        ,  0.        ,\n",
       "         0.        ,  0.        ,  0.        ,  0.        ,  0.        ,\n",
       "         0.        , -6.4669857 , -1.5       ,  0.        ,  0.        ,\n",
       "        -6.83172083,  6.        ,  0.        ,  0.        ]])"
      ]
     },
     "execution_count": 11,
     "metadata": {},
     "output_type": "execute_result"
    }
   ],
   "source": [
    "env_info.vector_observations"
   ]
  },
  {
   "cell_type": "code",
   "execution_count": 13,
   "metadata": {
    "collapsed": false
   },
   "outputs": [
    {
     "data": {
      "text/plain": [
       "[[0.0, 0.0],\n",
       " [0.0, 0.0],\n",
       " [0.0, 0.0],\n",
       " [0.0, 0.0],\n",
       " [0.0, 0.0],\n",
       " [0.0, 0.0],\n",
       " [0.0, 0.0],\n",
       " [0.0, 0.0],\n",
       " [0.0, 0.0],\n",
       " [0.0, 0.0],\n",
       " [0.0, 0.0],\n",
       " [0.0, 0.0],\n",
       " [0.0, 0.0],\n",
       " [0.0, 0.0],\n",
       " [0.0, 0.0],\n",
       " [0.0, 0.0],\n",
       " [-6.6527862548828125, -6.466985702514648],\n",
       " [-1.5, -1.5],\n",
       " [-0.0, 0.0],\n",
       " [0.0, 0.0],\n",
       " [6.83172082901001, -6.83172082901001],\n",
       " [6.0, 6.0],\n",
       " [-0.0, 0.0],\n",
       " [0.0, 0.0]]"
      ]
     },
     "execution_count": 13,
     "metadata": {},
     "output_type": "execute_result"
    }
   ],
   "source": [
    "obs, obs_full = transpose_list(env_info.vector_observations)"
   ]
  },
  {
   "cell_type": "markdown",
   "metadata": {},
   "source": [
    "### 4. Train MADDPG!\n",
    "\n",
    "To deploy our agent to solve the navigation problem, we first import the agent class we wrote. When training the environment, set train_mode=True, so that the line for resetting the environment looks like the following:\n",
    "\n",
    "```python\n",
    "env_info = env.reset(train_mode=True)[brain_name]\n",
    "```"
   ]
  },
  {
   "cell_type": "code",
   "execution_count": null,
   "metadata": {
    "collapsed": true
   },
   "outputs": [],
   "source": [
    "agent = Agent(state_size=state_size, action_size=action_size, random_seed=10)"
   ]
  },
  {
   "cell_type": "code",
   "execution_count": 7,
   "metadata": {
    "collapsed": true
   },
   "outputs": [],
   "source": []
  },
  {
   "cell_type": "code",
   "execution_count": null,
   "metadata": {
    "collapsed": true
   },
   "outputs": [],
   "source": [
    "# setting parameters\n",
    "# number of parallel environment, each environment has 2 agents\n",
    "# this would generate more experience and smooth things out\n",
    "# PARALLEL_ENVS = 1\n",
    "# Here we only have 1 env for simplicity\n",
    "\n",
    "# number of training episodes.\n",
    "# change this to higher number to experiment. say 30000.\n",
    "NUMBER_OF_EPISODES = 1000\n",
    "EPISODE_LENGTH = 80\n",
    "BATCHSIZE = 1000\n",
    "\n",
    "# amplitude of OU noise\n",
    "# this slowly decreases to 0\n",
    "# instead of resetting noise to 0 every episode, we let it decrease to 0 over a few episodes\n",
    "NOISE = 2\n",
    "NOISE_REDUCTION = 0.9999\n",
    "BUFFER_SIZE = 5000\n",
    "\n",
    "IN_ACTOR_DIM = 24 \n",
    "HIDDEN_ACTOR_IN_DIM = 16\n",
    "HIDDEN_ACTOR_OUT_DIM = 8\n",
    "OUT_ACTOR_DIM = action_size\n",
    "\n",
    "# Critic input contains the state AND all the actions of all the agents\n",
    "# there are 2 agents, so 24+ 2*2 = 28\n",
    "IN_CRIT_DIM = IN_ACTOR_DIM + action_size * num_agents\n",
    "HIDDEN_CRIT_IN_DIM = 32\n",
    "HIDDEN_CRIT_OUT_DIM = 16\n",
    "OUT_CRIT_DIM = 1\n",
    "\n",
    "# how many episodes before update\n",
    "UPDATE_EVERY = 5\n",
    "\n",
    "episode_per_update = 2 * PARALLEL_ENVS\n",
    "        # critic input = obs_full + actions = 14+2+2+2=20\n",
    "\n",
    "        if i_episode % 50 == 0:\n",
    "            print('\\rEpisode {}\\tAverage Last 100 Episodes Score: {:.2f}'.format(i_episode, np.mean(scores_deque)))\n",
    "            torch.save(agent.actor_local.state_dict(), 'checkpoint_actor.pth')\n",
    "            torch.save(agent.critic_local.state_dict(), 'checkpoint_critic.pth')\n",
    "\n",
    "        if np.mean(scores_deque)>=30.0:\n",
    "            print('\\nEnvironment solved in {:d} episodes!\\tAverage Last 100 Episodes Score: {:.2f}'.format(i_episode, np.mean(scores_deque)))\n",
    "            torch.save(agent.actor_local.state_dict(), 'checkpoint_actor.pth')\n",
    "            torch.save(agent.critic_local.state_dict(), 'checkpoint_critic.pth')\n",
    "            break  "
   ]
  },
  {
   "cell_type": "code",
   "execution_count": 16,
   "metadata": {
    "collapsed": false
   },
   "outputs": [
    {
     "data": {
      "text/plain": [
       "[[[1, 2, 3], [5, 6, 7]], [[2, 3, 4], [8, 9, 0]]]"
      ]
     },
     "execution_count": 16,
     "metadata": {},
     "output_type": "execute_result"
    }
   ],
   "source": [
    "def transpose_list(mylist):\n",
    "    return list(map(list, zip(*mylist)))\n",
    "\n",
    "transpose_list([[[1,2,3],[2,3,4]],[[5,6,7],[8,9,0]] ])"
   ]
  },
  {
   "cell_type": "code",
   "execution_count": null,
   "metadata": {
    "collapsed": true
   },
   "outputs": [],
   "source": [
    "# main function that sets up environments\n",
    "# perform training loop\n",
    "\n",
    "\n",
    "\n",
    "def seeding(seed=1):\n",
    "    np.random.seed(seed)\n",
    "    torch.manual_seed(seed)\n",
    "\n",
    "def pre_process(entity, batchsize):\n",
    "    processed_entity = []\n",
    "    for j in range(3):\n",
    "        list = []\n",
    "        for i in range(batchsize):\n",
    "            b = entity[i][j]\n",
    "            list.append(b)\n",
    "        c = torch.Tensor(list)\n",
    "        processed_entity.append(c)\n",
    "    return processed_entity\n",
    "\n",
    "def run_maddpg():\n",
    "    seeding()\n",
    "    t = 0\n",
    "    \n",
    "    # number of parallel environment, each environment has 2 agents\n",
    "    # this would generate more experience and smooth things out\n",
    "    # parallel_envs = 4\n",
    "    # number of training episodes.\n",
    "    # change this to higher number to experiment. say 30000.\n",
    "    x number_of_episodes = 1000\n",
    "    x episode_length = 80\n",
    "    x batchsize = 1000\n",
    "    # how many episodes to save policy and gif\n",
    "    x save_interval = 1000\n",
    "\n",
    "    \n",
    "    # amplitude of OU noise\n",
    "    # this slowly decreases to 0\n",
    "    # instead of resetting noise to 0 every episode, we let it decrease to 0 over a few episodes\n",
    "    x noise = 2\n",
    "    x noise_reduction = 0.9999\n",
    "\n",
    "    # how many episodes before update\n",
    "    x episode_per_update = 2 * PARALLEL_ENVS\n",
    "\n",
    "    log_path = os.getcwd()+\"/log\"\n",
    "    model_dir= os.getcwd()+\"/model_dir\"\n",
    "    \n",
    "    os.makedirs(model_dir, exist_ok=True)\n",
    "\n",
    "    # torch.set_num_threads(PARALLEL_ENVS)\n",
    "    # env = envs.make_parallel_env(PARALLEL_ENVS)\n",
    "    \n",
    "    # keep 5000 episodes worth of replay\n",
    "    buffer = ReplayBuffer(int(BUFFER_SIZE * EPISODE_LENGTH))\n",
    "    \n",
    "    # initialize policy and critic through MADDOG\n",
    "    maddpg = MADDPG(IN_ACTOR_DI, HIDDEN_ACTOR_IN_DIM, HIDDEN_ACTOR_OUT_DIM, OUT_ACTOR_DIM, IN_CRIT_DIM, HIDDEN_CRIT_IN_DIM, HIDDEN_CRIT_OUT_DIM)\n",
    "    \n",
    "    logger = SummaryWriter(log_dir=log_path)\n",
    "    \n",
    "    agent0_reward = []\n",
    "    agent1_reward = []\n",
    "\n",
    "\n",
    "    # training loop\n",
    "    # show progressbar\n",
    "    import progressbar as pb\n",
    "    widget = ['episode: ', pb.Counter(),'/',str(NUMBER_OF_EPISODES),' ', \n",
    "              pb.Percentage(), ' ', pb.ETA(), ' ', pb.Bar(marker=pb.RotatingMarker()), ' ' ]\n",
    "    \n",
    "    timer = pb.ProgressBar(widgets=widget, maxval=NUMBER_OF_EPISODES).start()\n",
    "\n",
    "    # use keep_awake to keep workspace from disconnecting\n",
    "    for episode in range(1, n_episodes+1):\n",
    "\n",
    "uuu        uuu timer.update(episode)\n",
    "\n",
    "uuu        uuu reward_this_episode = np.zeros((PARALLEL_ENVS, 3))\n",
    "        \n",
    "uuu        uuu all_obs = env.reset() \n",
    "        \n",
    "        env_info = env.reset(train_mode=True)[brain_name]\n",
    "        states = env_info.vector_observations[0]\n",
    "        agent.reset()\n",
    "        \n",
    "        # initialize scores for both agents\n",
    "        score = [0,0]   \n",
    "        \n",
    "        # in lab, all_obs came directly from env, it has 4 lists, each list has 1 3x14 and 1 1x14\n",
    "        # obs has 4 lists, getting only the 3x14 from all_obs\n",
    "        # obs_full on the other hand got the 1x14\n",
    "        \n",
    "        obs, obs_full = transpose_list(all_obs)\n",
    "        \n",
    "\n",
    "\n",
    "        #for calculating rewards for this particular episode - addition of all time steps\n",
    "\n",
    "        # save info or not\n",
    "        save_info = ((episode) % save_interval < PARALLEL_ENVS or episode== NUMBER_OF_EPISODES-PARALLEL_ENVS)\n",
    "        frames = []\n",
    "        tmax = 0\n",
    "        \n",
    "        if save_info:\n",
    "            frames.append(env.render('rgb_array'))\n",
    "\n",
    "\n",
    "        \n",
    "        for episode_t in range(EPISODE_LENGTH):\n",
    "\n",
    "            t += PARALLEL_ENVS\n",
    "            \n",
    "\n",
    "            # explore = only explore for a certain number of episodes\n",
    "            # action input needs to be transposed\n",
    "            actions = maddpg.act(transpose_to_tensor(obs), noise=NOISE)\n",
    "            NOISE *= NOISE_REDUCTION\n",
    "            \n",
    "            actions_array = torch.stack(actions).detach().numpy()\n",
    "\n",
    "            # transpose the list of list\n",
    "            # flip the first two indices\n",
    "            # input to step requires the first index to correspond to number of parallel agents\n",
    "            actions_for_env = np.rollaxis(actions_array,1)\n",
    "            \n",
    "            # step forward one frame\n",
    "            next_obs, next_obs_full, rewards, dones, info = env.step(actions_for_env)\n",
    "            \n",
    "            # add data to buffer\n",
    "            transition = (obs, obs_full, actions_for_env, rewards, next_obs, next_obs_full, dones)\n",
    "            \n",
    "            buffer.push(transition)\n",
    "            \n",
    "            reward_this_episode += rewards\n",
    "\n",
    "            obs, obs_full = next_obs, next_obs_full\n",
    "            \n",
    "            \"\"\"obs is the observation state space of all the three agents in the four parallel environments, \n",
    "            for the Physical Dception environment with three agents it is of dimension 4x3x14.\n",
    "            obs_full is world state irrespective of the agents and its dimension is 4x14. \n",
    "            \"\"\"           \n",
    "            \n",
    "            # save gif frame\n",
    "            if save_info:\n",
    "                frames.append(env.render('rgb_array'))\n",
    "                tmax+=1\n",
    "        \n",
    "        # update once after every episode_per_update\n",
    "        if len(buffer) > BATCHSIZE and episode % episode_per_update < PARALLEL_ENVS:\n",
    "            for a_i in range(3):\n",
    "                samples = buffer.sample(BATCHSIZE)\n",
    "                maddpg.update(samples, a_i, logger)\n",
    "            maddpg.update_targets() #soft update the target network towards the actual networks\n",
    "\n",
    "        \n",
    "        \n",
    "        for i in range(PARALLEL_ENVS):\n",
    "            agent0_reward.append(reward_this_episode[i,0])\n",
    "            agent1_reward.append(reward_this_episode[i,1])\n",
    "\n",
    "\n",
    "        if episode % 100 == 0 or episode == NUMBER_OF_EPISODES-1:\n",
    "            avg_rewards = [np.mean(agent0_reward), np.mean(agent1_reward), np.mean(agent2_reward)]\n",
    "            agent0_reward = []\n",
    "            agent1_reward = []\n",
    "\n",
    "            for a_i, avg_rew in enumerate(avg_rewards):\n",
    "                logger.add_scalar('agent%i/mean_episode_rewards' % a_i, avg_rew, episode)\n",
    "\n",
    "        #saving model\n",
    "        save_dict_list =[]\n",
    "        if save_info:\n",
    "            for i in range(3):\n",
    "\n",
    "                save_dict = {'actor_params' : maddpg.maddpg_agent[i].actor.state_dict(),\n",
    "                             'actor_optim_params': maddpg.maddpg_agent[i].actor_optimizer.state_dict(),\n",
    "                             'critic_params' : maddpg.maddpg_agent[i].critic.state_dict(),\n",
    "                             'critic_optim_params' : maddpg.maddpg_agent[i].critic_optimizer.state_dict()}\n",
    "                save_dict_list.append(save_dict)\n",
    "\n",
    "                torch.save(save_dict_list, \n",
    "                           os.path.join(model_dir, 'episode-{}.pt'.format(episode)))\n",
    "                \n",
    "            # save gif files\n",
    "            imageio.mimsave(os.path.join(model_dir, 'episode-{}.gif'.format(episode)), \n",
    "                            frames, duration=.04)\n",
    "\n",
    "    env.close()\n",
    "    logger.close()\n",
    "    timer.finish()\n",
    "\n",
    "if __name__=='__main__':\n",
    "    main()\n"
   ]
  },
  {
   "cell_type": "markdown",
   "metadata": {},
   "source": [
    "When finished, you can close the environment."
   ]
  },
  {
   "cell_type": "code",
   "execution_count": 5,
   "metadata": {
    "collapsed": true
   },
   "outputs": [],
   "source": [
    "env.close()"
   ]
  },
  {
   "cell_type": "code",
   "execution_count": null,
   "metadata": {
    "collapsed": true
   },
   "outputs": [],
   "source": []
  }
 ],
 "metadata": {
  "anaconda-cloud": {},
  "kernelspec": {
   "display_name": "drlnd",
   "language": "python",
   "name": "drlnd"
  },
  "language_info": {
   "codemirror_mode": {
    "name": "ipython",
    "version": 3
   },
   "file_extension": ".py",
   "mimetype": "text/x-python",
   "name": "python",
   "nbconvert_exporter": "python",
   "pygments_lexer": "ipython3",
   "version": "3.6.8"
  }
 },
 "nbformat": 4,
 "nbformat_minor": 2
}
