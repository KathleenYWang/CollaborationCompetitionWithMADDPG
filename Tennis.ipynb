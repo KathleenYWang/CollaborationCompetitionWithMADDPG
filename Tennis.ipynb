{
 "cells": [
  {
   "cell_type": "markdown",
   "metadata": {},
   "source": [
    "# Collaboration and Competition\n",
    "\n",
    "---\n",
    "\n",
    "In this notebook, you will learn how to use the Unity ML-Agents environment for the third project of the [Deep Reinforcement Learning Nanodegree](https://www.udacity.com/course/deep-reinforcement-learning-nanodegree--nd893) program.\n",
    "\n",
    "### 1. Start the Environment\n",
    "\n",
    "We begin by importing the necessary packages.  If the code cell below returns an error, please revisit the project instructions to double-check that you have installed [Unity ML-Agents](https://github.com/Unity-Technologies/ml-agents/blob/master/docs/Installation.md) and [NumPy](http://www.numpy.org/)."
   ]
  },
  {
   "cell_type": "code",
   "execution_count": 1,
   "metadata": {
    "collapsed": false
   },
   "outputs": [],
   "source": [
    "from unityagents import UnityEnvironment\n",
    "import numpy as np\n",
    "\n",
    "import random\n",
    "import torch\n",
    "\n",
    "from collections import deque\n",
    "import matplotlib.pyplot as plt\n",
    "%matplotlib inline\n",
    "\n",
    "from maddpg import MADDPG, ReplayBuffer\n",
    "\n",
    "import os\n",
    "from utilities import transpose_list, transpose_to_tensor, convert_to_tensor\n",
    "import matplotlib.pyplot as plt\n",
    "%matplotlib inline"
   ]
  },
  {
   "cell_type": "markdown",
   "metadata": {},
   "source": [
    "Next, we will start the environment!  **_Before running the code cell below_**, change the `file_name` parameter to match the location of the Unity environment that you downloaded.\n",
    "\n",
    "- **Mac**: `\"path/to/Tennis.app\"`\n",
    "- **Windows** (x86): `\"path/to/Tennis_Windows_x86/Tennis.exe\"`\n",
    "- **Windows** (x86_64): `\"path/to/Tennis_Windows_x86_64/Tennis.exe\"`\n",
    "- **Linux** (x86): `\"path/to/Tennis_Linux/Tennis.x86\"`\n",
    "- **Linux** (x86_64): `\"path/to/Tennis_Linux/Tennis.x86_64\"`\n",
    "- **Linux** (x86, headless): `\"path/to/Tennis_Linux_NoVis/Tennis.x86\"`\n",
    "- **Linux** (x86_64, headless): `\"path/to/Tennis_Linux_NoVis/Tennis.x86_64\"`\n",
    "\n",
    "For instance, if you are using a Mac, then you downloaded `Tennis.app`.  If this file is in the same folder as the notebook, then the line below should appear as follows:\n",
    "```\n",
    "env = UnityEnvironment(file_name=\"Tennis.app\")\n",
    "```"
   ]
  },
  {
   "cell_type": "code",
   "execution_count": 2,
   "metadata": {
    "collapsed": false
   },
   "outputs": [
    {
     "name": "stderr",
     "output_type": "stream",
     "text": [
      "INFO:unityagents:\n",
      "'Academy' started successfully!\n",
      "Unity Academy name: Academy\n",
      "        Number of Brains: 1\n",
      "        Number of External Brains : 1\n",
      "        Lesson number : 0\n",
      "        Reset Parameters :\n",
      "\t\t\n",
      "Unity brain name: TennisBrain\n",
      "        Number of Visual Observations (per agent): 0\n",
      "        Vector Observation space type: continuous\n",
      "        Vector Observation space size (per agent): 8\n",
      "        Number of stacked Vector Observation: 3\n",
      "        Vector Action space type: continuous\n",
      "        Vector Action space size (per agent): 2\n",
      "        Vector Action descriptions: , \n"
     ]
    }
   ],
   "source": [
    "env = UnityEnvironment(file_name='env\\Tennis.app')"
   ]
  },
  {
   "cell_type": "markdown",
   "metadata": {},
   "source": [
    "Environments contain **_brains_** which are responsible for deciding the actions of their associated agents. Here we check for the first brain available, and set it as the default brain we will be controlling from Python."
   ]
  },
  {
   "cell_type": "code",
   "execution_count": 3,
   "metadata": {
    "collapsed": true
   },
   "outputs": [],
   "source": [
    "# get the default brain\n",
    "brain_name = env.brain_names[0]\n",
    "brain = env.brains[brain_name]"
   ]
  },
  {
   "cell_type": "markdown",
   "metadata": {},
   "source": [
    "### 2. Examine the State and Action Spaces\n",
    "\n",
    "In this environment, two agents control rackets to bounce a ball over a net. If an agent hits the ball over the net, it receives a reward of +0.1.  If an agent lets a ball hit the ground or hits the ball out of bounds, it receives a reward of -0.01.  Thus, the goal of each agent is to keep the ball in play.\n",
    "\n",
    "The observation space consists of 8 variables corresponding to the position and velocity of the ball and racket. Two continuous actions are available, corresponding to movement toward (or away from) the net, and jumping. \n",
    "\n",
    "Run the code cell below to print some information about the environment."
   ]
  },
  {
   "cell_type": "code",
   "execution_count": 4,
   "metadata": {
    "collapsed": false
   },
   "outputs": [
    {
     "name": "stdout",
     "output_type": "stream",
     "text": [
      "Number of agents: 2\n",
      "Size of each action: 2\n",
      "There are 2 agents. Each observes a state with length: 24\n",
      "The state for the first agent looks like: [[ 0.          0.          0.          0.          0.          0.\n",
      "   0.          0.          0.          0.          0.          0.\n",
      "   0.          0.          0.          0.         -6.65278625 -1.5\n",
      "  -0.          0.          6.83172083  6.         -0.          0.        ]\n",
      " [ 0.          0.          0.          0.          0.          0.\n",
      "   0.          0.          0.          0.          0.          0.\n",
      "   0.          0.          0.          0.         -6.4669857  -1.5\n",
      "   0.          0.         -6.83172083  6.          0.          0.        ]]\n"
     ]
    }
   ],
   "source": [
    "# reset the environment\n",
    "env_info = env.reset(train_mode=True)[brain_name]\n",
    "\n",
    "\n",
    "# number of agents \n",
    "num_agents = len(env_info.agents)\n",
    "print('Number of agents:', num_agents)\n",
    "\n",
    "# size of each action\n",
    "action_size = brain.vector_action_space_size\n",
    "print('Size of each action:', action_size)\n",
    "\n",
    "# examine the state space \n",
    "states = env_info.vector_observations\n",
    "state_size = states.shape[1]\n",
    "print('There are {} agents. Each observes a state with length: {}'.format(states.shape[0], state_size))\n",
    "print('The state for the first agent looks like:', states)"
   ]
  },
  {
   "cell_type": "code",
   "execution_count": 5,
   "metadata": {
    "collapsed": false
   },
   "outputs": [
    {
     "data": {
      "text/plain": [
       "array([[ 0.        ,  0.        ,  0.        ,  0.        ,  0.        ,\n",
       "         0.        ,  0.        ,  0.        ,  0.        ,  0.        ,\n",
       "         0.        ,  0.        ,  0.        ,  0.        ,  0.        ,\n",
       "         0.        , -6.65278625, -1.5       , -0.        ,  0.        ,\n",
       "         6.83172083,  6.        , -0.        ,  0.        ],\n",
       "       [ 0.        ,  0.        ,  0.        ,  0.        ,  0.        ,\n",
       "         0.        ,  0.        ,  0.        ,  0.        ,  0.        ,\n",
       "         0.        ,  0.        ,  0.        ,  0.        ,  0.        ,\n",
       "         0.        , -6.4669857 , -1.5       ,  0.        ,  0.        ,\n",
       "        -6.83172083,  6.        ,  0.        ,  0.        ]])"
      ]
     },
     "execution_count": 5,
     "metadata": {},
     "output_type": "execute_result"
    }
   ],
   "source": [
    "env_info.vector_observations"
   ]
  },
  {
   "cell_type": "code",
   "execution_count": null,
   "metadata": {
    "collapsed": true
   },
   "outputs": [],
   "source": []
  },
  {
   "cell_type": "code",
   "execution_count": 6,
   "metadata": {
    "collapsed": false
   },
   "outputs": [
    {
     "data": {
      "text/plain": [
       "array([[ 0.        ,  0.        ,  0.        ,  0.        ,  0.        ,\n",
       "         0.        ,  0.        ,  0.        ,  0.        ,  0.        ,\n",
       "         0.        ,  0.        ,  0.        ,  0.        ,  0.        ,\n",
       "         0.        , -6.65278625, -1.5       , -0.        ,  0.        ,\n",
       "         6.83172083,  6.        , -0.        ,  0.        ],\n",
       "       [ 0.        ,  0.        ,  0.        ,  0.        ,  0.        ,\n",
       "         0.        ,  0.        ,  0.        ,  0.        ,  0.        ,\n",
       "         0.        ,  0.        ,  0.        ,  0.        ,  0.        ,\n",
       "         0.        , -6.4669857 , -1.5       ,  0.        ,  0.        ,\n",
       "        -6.83172083,  6.        ,  0.        ,  0.        ]])"
      ]
     },
     "execution_count": 6,
     "metadata": {},
     "output_type": "execute_result"
    }
   ],
   "source": [
    "env_info.vector_observations"
   ]
  },
  {
   "cell_type": "code",
   "execution_count": 7,
   "metadata": {
    "collapsed": false
   },
   "outputs": [
    {
     "data": {
      "text/plain": [
       "[False, False]"
      ]
     },
     "execution_count": 7,
     "metadata": {},
     "output_type": "execute_result"
    }
   ],
   "source": [
    "env_info.local_done"
   ]
  },
  {
   "cell_type": "code",
   "execution_count": 8,
   "metadata": {
    "collapsed": true
   },
   "outputs": [],
   "source": [
    "actions = [[0.2,0.3],[0.5,0.6]]\n"
   ]
  },
  {
   "cell_type": "code",
   "execution_count": 9,
   "metadata": {
    "collapsed": false
   },
   "outputs": [],
   "source": [
    "actions_array = torch.stack(transpose_to_tensor(actions)).detach().numpy()"
   ]
  },
  {
   "cell_type": "code",
   "execution_count": 10,
   "metadata": {
    "collapsed": false
   },
   "outputs": [],
   "source": [
    "\n",
    "actions_for_env = np.rollaxis(actions_array,1)"
   ]
  },
  {
   "cell_type": "code",
   "execution_count": 11,
   "metadata": {
    "collapsed": false,
    "scrolled": true
   },
   "outputs": [],
   "source": [
    "env_info = env.step(actions_for_env)[brain_name] "
   ]
  },
  {
   "cell_type": "code",
   "execution_count": 12,
   "metadata": {
    "collapsed": false
   },
   "outputs": [
    {
     "data": {
      "text/plain": [
       "array([[ 0.        ,  0.        ,  0.        ,  0.        ,  0.        ,\n",
       "         0.        ,  0.        ,  0.        , -6.65278625, -1.5       ,\n",
       "        -0.        ,  0.        ,  6.83172083,  6.        , -0.        ,\n",
       "         0.        , -6.05278683, -1.55886006,  6.        , -0.98100001,\n",
       "         6.83172083,  5.94114017,  6.        , -0.98100001],\n",
       "       [ 0.        ,  0.        ,  0.        ,  0.        ,  0.        ,\n",
       "         0.        ,  0.        ,  0.        , -6.4669857 , -1.5       ,\n",
       "         0.        ,  0.        , -6.83172083,  6.        ,  0.        ,\n",
       "         0.        , -4.96698475, -0.98316395, 15.        ,  6.21520042,\n",
       "        -6.83172083,  5.94114017, 15.        ,  6.21520042]])"
      ]
     },
     "execution_count": 12,
     "metadata": {},
     "output_type": "execute_result"
    }
   ],
   "source": [
    "env_info.vector_observations"
   ]
  },
  {
   "cell_type": "markdown",
   "metadata": {},
   "source": [
    "### 4. Train MADDPG!\n",
    "\n",
    "To deploy our agent to solve the navigation problem, we first import the agent class we wrote. When training the environment, set train_mode=True, so that the line for resetting the environment looks like the following:\n",
    "\n",
    "```python\n",
    "env_info = env.reset(train_mode=True)[brain_name]\n",
    "```"
   ]
  },
  {
   "cell_type": "code",
   "execution_count": 17,
   "metadata": {
    "collapsed": true
   },
   "outputs": [],
   "source": [
    "# setting parameters\n",
    "# number of parallel environment, each environment has 2 agents\n",
    "# this would generate more experience and smooth things out\n",
    "# PARALLEL_ENVS = 1\n",
    "# Here we only have 1 env for simplicity\n",
    "\n",
    "# number of training episodes.\n",
    "# change this to higher number to experiment. say 30000.\n",
    "NUMBER_OF_EPISODES = 1000\n",
    "EPISODE_LENGTH = 80\n",
    "BATCHSIZE = 30\n",
    "\n",
    "# amplitude of OU noise\n",
    "# this slowly decreases to 0\n",
    "# instead of resetting noise to 0 every episode, we let it decrease to 0 over a few episodes\n",
    "NOISE = 2\n",
    "NOISE_REDUCTION = 0.9999\n",
    "BUFFER_SIZE = 5000\n",
    "\n",
    "IN_ACTOR_DIM = 24 \n",
    "HIDDEN_ACTOR_IN_DIM = 400\n",
    "HIDDEN_ACTOR_OUT_DIM = 300\n",
    "OUT_ACTOR_DIM = 2\n",
    "\n",
    "# Critic input contains both states AND all the actions of all the agents\n",
    "# there are 2 agents, so 24*2 + 2*2 = 28\n",
    "IN_CRIT_DIM = IN_ACTOR_DIM  * num_agents + action_size * num_agents\n",
    "HIDDEN_CRIT_IN_DIM = 400\n",
    "HIDDEN_CRIT_OUT_DIM = 300\n",
    "OUT_CRIT_DIM = 1\n",
    "\n",
    "# how many episodes before update\n",
    "UPDATE_EVERY = 2\n",
    "SEED = 2"
   ]
  },
  {
   "cell_type": "code",
   "execution_count": null,
   "metadata": {
    "collapsed": true
   },
   "outputs": [],
   "source": []
  },
  {
   "cell_type": "code",
   "execution_count": 18,
   "metadata": {
    "collapsed": false
   },
   "outputs": [],
   "source": [
    "# main function that sets up environments\n",
    "# perform training loop\n",
    "\n",
    "\n",
    "def pre_process(entity, batchsize):\n",
    "    processed_entity = []\n",
    "    for j in range(3):\n",
    "        list = []\n",
    "        for i in range(batchsize):\n",
    "            b = entity[i][j]\n",
    "            list.append(b)\n",
    "        c = torch.Tensor(list)\n",
    "        processed_entity.append(c)\n",
    "    return processed_entity\n",
    "\n",
    "def run_maddpg():\n",
    "    \n",
    "    np.random.seed(SEED)\n",
    "    torch.manual_seed(SEED)\n",
    "    t = 0\n",
    "    \n",
    "    noise = NOISE\n",
    "    noise_reduction = NOISE_REDUCTION\n",
    "\n",
    "    \n",
    "    log_path = os.getcwd()+\"/log\"\n",
    "    model_dir= os.getcwd()+\"/model_dir\"\n",
    "    \n",
    "    os.makedirs(model_dir, exist_ok=True)\n",
    "\n",
    "    # torch.set_num_threads(PARALLEL_ENVS)\n",
    "    # env = envs.make_parallel_env(PARALLEL_ENVS)\n",
    "    \n",
    "    # keep 5000 episodes worth of replay\n",
    "\n",
    "    buffer = ReplayBuffer(int(BUFFER_SIZE*EPISODE_LENGTH))\n",
    "    # initialize policy and critic through MADDOG\n",
    "    maddpg = MADDPG(IN_ACTOR_DIM, HIDDEN_ACTOR_IN_DIM, HIDDEN_ACTOR_OUT_DIM, OUT_ACTOR_DIM, IN_CRIT_DIM, HIDDEN_CRIT_IN_DIM, HIDDEN_CRIT_OUT_DIM)\n",
    "    \n",
    "    # these will be used to print rewards for agents\n",
    "    agent0_reward = []\n",
    "    agent1_reward = []\n",
    "    scores_deque = deque(maxlen=100)\n",
    "    best_scores = []\n",
    "    update_t = 0\n",
    "\n",
    "\n",
    "    # training loop\n",
    "    # show progressbar\n",
    "#     import progressbar as pb\n",
    "#     widget = ['episode: ', pb.Counter(),'/',str(NUMBER_OF_EPISODES),' ', \n",
    "#               pb.Percentage(), ' ', pb.ETA(), ' ', pb.Bar(marker=pb.RotatingMarker()), ' ' ]\n",
    "    \n",
    "#     timer = pb.ProgressBar(widgets=widget, maxval=NUMBER_OF_EPISODES).start()\n",
    "\n",
    "    # use keep_awake to keep workspace from disconnecting\n",
    "    for episode in range(1, NUMBER_OF_EPISODES+1):\n",
    "\n",
    "#         timer.update(episode)\n",
    "        \n",
    "        env_info = env.reset(train_mode=True)[brain_name]\n",
    "        states = env_info.vector_observations\n",
    "\n",
    "        \n",
    "        # initialize scores for both agents\n",
    "        scores = [0,0]   \n",
    "        \n",
    "        # in lab, all_obs came directly from env, it has 4 lists, each list has 1 3x14 and 1 1x14\n",
    "        # obs has 4 lists, getting only the 3x14 from all_obs\n",
    "        # obs_full on the other hand got the 1x14\n",
    "        \n",
    "\n",
    "        #for calculating rewards for this particular episode - addition of all time steps\n",
    "\n",
    "        for episode_t in range(EPISODE_LENGTH):\n",
    "\n",
    "            # explore = only explore for a certain number of episodes\n",
    "            # action input needs to be transposed\n",
    "            \n",
    "            state_tensors = convert_to_tensor(states)\n",
    "\n",
    "            \n",
    "\n",
    "            actions = maddpg.act(state_tensors, noise = 2)\n",
    "           \n",
    "            noise *= noise_reduction\n",
    "            \n",
    "            actions_array = torch.stack(actions).detach().numpy()\n",
    "       \n",
    "            \n",
    "            # act (actions)       \n",
    "            # [tensor([ 0.9857,  0.0912]), tensor([ 0.0951, -0.1229])]\n",
    "            # stack (actions_array)             \n",
    "            # [[ 0.98568964  0.09124897]\n",
    "            #  [ 0.0950533  -0.12286544]]\n",
    "\n",
    "            # step forward one frame\n",
    "            \n",
    "            env_info = env.step(actions_array)[brain_name] \n",
    "            \n",
    "            next_states = env_info.vector_observations\n",
    "\n",
    "            rewards = env_info.rewards\n",
    "            dones  = env_info.local_done\n",
    "            \n",
    "            update_t = (update_t + 1) % UPDATE_EVERY\n",
    "            \n",
    "            \n",
    "            # add data to buffer            \n",
    "            transition = (states, actions_for_env, rewards, next_states, dones)\n",
    "            buffer.push(transition)\n",
    "                \n",
    "            # update once after every UPDATE_EVERY (if multiple env, we have to update every time for each env)\n",
    "            if len(buffer) > BATCHSIZE and update_t == 0:\n",
    "\n",
    "                for a_i in range(num_agents):\n",
    "                    samples = buffer.sample(BATCHSIZE)\n",
    "\n",
    "                    maddpg.update(samples, a_i)\n",
    "\n",
    "                maddpg.update_targets() #soft update the target network towards the actual networks\n",
    "\n",
    "            # after updating the networks and getting new scores, update the tracking lists\n",
    "            agent0_reward.append(scores[0])\n",
    "            agent1_reward.append(scores[1])\n",
    "\n",
    "            best_scores.append(max(scores))\n",
    "            scores_deque.append(max(scores))            \n",
    "                    \n",
    "           \n",
    "            states = next_states\n",
    "            scores += rewards\n",
    "            \n",
    "            # if one of the agent is done we are done\n",
    "            if dones[0]:\n",
    "                break  \n",
    "\n",
    "\n",
    "        \n",
    "\n",
    "        \n",
    "\n",
    "        \n",
    "        # print score every 100 episodes and save model \n",
    "        if episode % 100 == 0 or episode == NUMBER_OF_EPISODES-1 or  np.mean(scores_deque)>=0.5:\n",
    "            \n",
    "            for i in range(num_agents):   \n",
    "                save_dict = {'actor_params' : maddpg.maddpg_agent[i].actor.state_dict(),\n",
    "                             'actor_optim_params': maddpg.maddpg_agent[i].actor_optimizer.state_dict(),\n",
    "                             'critic_params' : maddpg.maddpg_agent[i].critic.state_dict(),\n",
    "                             'critic_optim_params' : maddpg.maddpg_agent[i].critic_optimizer.state_dict()}            \n",
    "\n",
    "                torch.save(save_dict, os.path.join(model_dir, 'checkpoint.pth'))\n",
    "            \n",
    "            print('\\rEpisode {}\\tAverage Last 100 Episodes Score: {:.2f}'.format(episode, np.mean(scores_deque)))\n",
    "\n",
    "        # problem solved\n",
    "        if  np.mean(scores_deque)>=0.5:\n",
    "            print('\\nEnvironment solved in {:d} episodes!\\tAverage Last 100 Episodes Score: {:.2f}'.format(i_episode, np.mean(scores_deque)))            \n",
    "\n",
    "            break             \n",
    "            \n",
    "\n",
    "        \n",
    "   \n",
    "\n",
    "#     timer.finish()\n",
    "    return  agent0_reward,  agent1_reward, best_scores\n",
    "\n"
   ]
  },
  {
   "cell_type": "code",
   "execution_count": 19,
   "metadata": {
    "collapsed": false
   },
   "outputs": [
    {
     "name": "stdout",
     "output_type": "stream",
     "text": [
      "Episode 100\tAverage Last 100 Episodes Score: 0.00\n",
      "Episode 200\tAverage Last 100 Episodes Score: 0.03\n",
      "Episode 300\tAverage Last 100 Episodes Score: 0.02\n",
      "Episode 400\tAverage Last 100 Episodes Score: 0.04\n",
      "Episode 500\tAverage Last 100 Episodes Score: 0.00\n",
      "Episode 600\tAverage Last 100 Episodes Score: 0.00\n",
      "Episode 700\tAverage Last 100 Episodes Score: 0.00\n",
      "Episode 800\tAverage Last 100 Episodes Score: 0.00\n",
      "Episode 900\tAverage Last 100 Episodes Score: 0.00\n",
      "Episode 999\tAverage Last 100 Episodes Score: 0.00\n",
      "Episode 1000\tAverage Last 100 Episodes Score: 0.00\n"
     ]
    }
   ],
   "source": [
    "agent0, agent1, best_scores = run_maddpg()"
   ]
  },
  {
   "cell_type": "code",
   "execution_count": 20,
   "metadata": {
    "collapsed": false
   },
   "outputs": [
    {
     "data": {
      "image/png": "[encoded data removed]",
      "text/plain": [
       "<Figure size 432x288 with 1 Axes>"
      ]
     },
     "metadata": {
      "needs_background": "light"
     },
     "output_type": "display_data"
    }
   ],
   "source": [
    "# plot the scores\n",
    "fig = plt.figure()\n",
    "ax = fig.add_subplot(111)\n",
    "plt.plot(np.arange(len(best_scores)), best_scores)\n",
    "plt.ylabel('Score')\n",
    "plt.xlabel('Episode #')\n",
    "plt.show()"
   ]
  },
  {
   "cell_type": "markdown",
   "metadata": {},
   "source": []
  },
  {
   "cell_type": "markdown",
   "metadata": {},
   "source": [
    "When finished, you can close the environment."
   ]
  },
  {
   "cell_type": "code",
   "execution_count": 22,
   "metadata": {
    "collapsed": false
   },
   "outputs": [
    {
     "name": "stdout",
     "output_type": "stream",
     "text": [
      "[[[ 0  1  2  3]\n",
      "  [ 4  5  6  7]\n",
      "  [ 8  9 10 11]]\n",
      "\n",
      " [[12 13 14 15]\n",
      "  [16 17 18 19]\n",
      "  [20 21 22 23]]]\n",
      "[[ 0  1  2  3]\n",
      " [ 4  5  6  7]\n",
      " [ 8  9 10 11]\n",
      " [12 13 14 15]\n",
      " [16 17 18 19]\n",
      " [20 21 22 23]]\n"
     ]
    }
   ],
   "source": [
    "a = np.arange(24)\n",
    "\n",
    "print(a.reshape(2,3,4))\n",
    "\n",
    "print(a.reshape(6,4))"
   ]
  },
  {
   "cell_type": "markdown",
   "metadata": {},
   "source": []
  },
  {
   "cell_type": "code",
   "execution_count": 19,
   "metadata": {
    "collapsed": false
   },
   "outputs": [
    {
     "name": "stderr",
     "output_type": "stream",
     "text": [
      "ERROR:root:Exception calling application: \n",
      "Traceback (most recent call last):\n",
      "  File \"C:\\Users\\kathl\\AppData\\Local\\conda\\conda\\envs\\drlnd\\lib\\multiprocessing\\connection.py\", line 312, in _recv_bytes\n",
      "    nread, err = ov.GetOverlappedResult(True)\n",
      "BrokenPipeError: [WinError 109] The pipe has been ended\n",
      "\n",
      "During handling of the above exception, another exception occurred:\n",
      "\n",
      "Traceback (most recent call last):\n",
      "  File \"C:\\Users\\kathl\\AppData\\Local\\conda\\conda\\envs\\drlnd\\lib\\site-packages\\grpc\\_server.py\", line 385, in _call_behavior\n",
      "    return behavior(argument, context), True\n",
      "  File \"C:\\Users\\kathl\\AppData\\Local\\conda\\conda\\envs\\drlnd\\lib\\site-packages\\unityagents\\rpc_communicator.py\", line 26, in Exchange\n",
      "    return self.child_conn.recv()\n",
      "  File \"C:\\Users\\kathl\\AppData\\Local\\conda\\conda\\envs\\drlnd\\lib\\multiprocessing\\connection.py\", line 250, in recv\n",
      "    buf = self._recv_bytes()\n",
      "  File \"C:\\Users\\kathl\\AppData\\Local\\conda\\conda\\envs\\drlnd\\lib\\multiprocessing\\connection.py\", line 321, in _recv_bytes\n",
      "    raise EOFError\n",
      "EOFError\n"
     ]
    }
   ],
   "source": [
    "env.close()"
   ]
  },
  {
   "cell_type": "code",
   "execution_count": 10,
   "metadata": {
    "collapsed": false
   },
   "outputs": [
    {
     "data": {
      "text/plain": [
       "[0, 0, 0, 0, 0, 0, 0, 0, 0, 0]"
      ]
     },
     "execution_count": 10,
     "metadata": {},
     "output_type": "execute_result"
    }
   ],
   "source": [
    "best_scores"
   ]
  },
  {
   "cell_type": "code",
   "execution_count": 15,
   "metadata": {
    "collapsed": false
   },
   "outputs": [
    {
     "name": "stdout",
     "output_type": "stream",
     "text": [
      "[ 0.          0.          0.          0.          0.          0.\n",
      "  0.          0.         -6.65278625 -1.5        -0.          0.\n",
      "  6.83172083  6.         -0.          0.         -6.05278683 -1.55886006\n",
      "  6.         -0.98100001  6.83172083  5.94114017  6.         -0.98100001]\n",
      "[0.2, 0.3]\n",
      "[ 0.          0.          0.          0.          0.          0.\n",
      "  0.          0.         -6.4669857  -1.5         0.          0.\n",
      " -6.83172083  6.          0.          0.         -5.56698656 -0.98316395\n",
      "  9.          6.21520042 -6.83172083  5.94114017  9.          6.21520042]\n",
      "[0.5, 0.6]\n"
     ]
    }
   ],
   "source": [
    "for state, action in zip(env_info.vector_observations,actions ):\n",
    "    print(state)\n",
    "    print(action)"
   ]
  }
 ],
 "metadata": {
  "anaconda-cloud": {},
  "kernelspec": {
   "display_name": "drlnd",
   "language": "python",
   "name": "drlnd"
  },
  "language_info": {
   "codemirror_mode": {
    "name": "ipython",
    "version": 3
   },
   "file_extension": ".py",
   "mimetype": "text/x-python",
   "name": "python",
   "nbconvert_exporter": "python",
   "pygments_lexer": "ipython3",
   "version": "3.6.8"
  }
 },
 "nbformat": 4,
 "nbformat_minor": 2
}
